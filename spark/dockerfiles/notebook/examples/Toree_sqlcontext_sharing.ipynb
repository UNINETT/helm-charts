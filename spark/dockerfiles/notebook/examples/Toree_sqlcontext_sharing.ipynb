{
 "cells": [
  {
   "cell_type": "markdown",
   "metadata": {
    "focus": false,
    "id": "819d9e64-f0d0-4c48-9e50-05d134cf17b2"
   },
   "source": [
    "# Apache Toree SQLContext Sharing <a name=\"top\"></a>"
   ]
  },
  {
   "cell_type": "markdown",
   "metadata": {
    "focus": false,
    "id": "fe519cd1-bc91-4a65-a768-6c5a06605ea8"
   },
   "source": [
    "This example shows how Toree enables sharing of the SQLContext across the variety of languages that it supports (Scala, Python, R, SQL). To demostrate, this notebook will load data using one language and read it from another. Refer to the [Spark documentation](http://spark.apache.org/docs/latest/sql-programming-guide.html) for details about the DataFrame and SQL APIs."
   ]
  },
  {
   "cell_type": "markdown",
   "metadata": {
    "focus": false,
    "id": "ca2dc868-3ea8-4611-83df-01e46b98decd"
   },
   "source": [
    "**Table of Contents**\n",
    "\n",
    "1. [Create a DataFrame in Scala](#create-in-scala)\n",
    "2. [Read DataFrame in Python](#read-in-python)\n",
    "3. [Create a DataFrame in Python](#create-in-python)\n",
    "4. [Read DataFrame in Scala](#read-in-scala)\n",
    "5. [Read DataFrame in SQL](#read-in-sql)"
   ]
  },
  {
   "cell_type": "markdown",
   "metadata": {
    "focus": false,
    "id": "79609677-a98a-49cd-a64f-65b187d5976d"
   },
   "source": [
    "### Create a DataFrame in Scala <a name=\"create-in-scala\"></a><span style=\"float: right; font-size: 0.5em\"><a href=\"#top\">Top</a></span>"
   ]
  },
  {
   "cell_type": "code",
   "execution_count": null,
   "metadata": {
    "collapsed": false
   },
   "outputs": [],
   "source": [
    "import org.apache.spark.{SparkConf}\n",
    "\n",
    "val conf = new SparkConf()\n",
    "conf.setAppName(\"Scala Spark Test\")\n",
    "kernel.createSparkContext(conf)"
   ]
  },
  {
   "cell_type": "code",
   "execution_count": null,
   "metadata": {
    "collapsed": false,
    "focus": false,
    "id": "3fdafe80-de73-4e9e-bff6-4c81832e4317"
   },
   "outputs": [],
   "source": [
    "val people = spark.read.json(\"/opt/datasets/people.json\")\n",
    "people.registerTempTable(\"people\")\n",
    "people.show()"
   ]
  },
  {
   "cell_type": "markdown",
   "metadata": {
    "focus": false,
    "id": "6c12be59-95f8-4b2a-bf3a-eb6ce4819fa4"
   },
   "source": [
    "## Read DataFrame in Python <a name=\"read-in-python\"></a> <span style=\"float: right; font-size: 0.5em\"><a href=\"#top\">Top</a></span>"
   ]
  },
  {
   "cell_type": "code",
   "execution_count": null,
   "metadata": {
    "collapsed": false,
    "focus": false,
    "id": "8effbdfa-1972-465c-82fe-836a093da296"
   },
   "outputs": [],
   "source": [
    "%%PySpark\n",
    "people= spark.table(\"people\")\n",
    "people.show()"
   ]
  },
  {
   "cell_type": "markdown",
   "metadata": {
    "focus": false,
    "id": "239319c9-c66f-4f3e-b154-6a5a899e1ea9"
   },
   "source": [
    "## Create a DataFrame in Python <a name=\"create-in-python\"></a> <span style=\"float: right; font-size: 0.5em\"><a href=\"#top\">Top</a></span>"
   ]
  },
  {
   "cell_type": "code",
   "execution_count": null,
   "metadata": {
    "collapsed": false,
    "focus": true,
    "id": "ce79797b-7747-450f-9e6c-42f41111f833"
   },
   "outputs": [],
   "source": [
    "%%PySpark\n",
    "cars = spark.read.json(\"/opt/cars.json\")\n",
    "cars.registerTempTable(\"cars\")\n",
    "cars.show()"
   ]
  },
  {
   "cell_type": "markdown",
   "metadata": {
    "focus": false,
    "id": "cb9ba967-4fe8-4d89-9427-66d1a4da266f"
   },
   "source": [
    "## Read DataFrame in Scala <a name=\"read-in-scala\"></a><span style=\"float: right; font-size: 0.5em\"><a href=\"#top\">Top</a></span>"
   ]
  },
  {
   "cell_type": "code",
   "execution_count": null,
   "metadata": {
    "collapsed": false,
    "focus": false,
    "id": "4860b061-5472-4042-abc2-7eea2c811178"
   },
   "outputs": [],
   "source": [
    "val cars = spark.table(\"cars\")\n",
    "cars.show()"
   ]
  },
  {
   "cell_type": "markdown",
   "metadata": {
    "focus": false,
    "id": "da983cd0-6374-4ff5-9240-7f702c214870"
   },
   "source": [
    "## Read DataFrame in SQL <a name=\"read-in-sql\"></a><span style=\"float: right; font-size: 0.5em\"><a href=\"#top\">Top</a></span>"
   ]
  },
  {
   "cell_type": "code",
   "execution_count": null,
   "metadata": {
    "collapsed": false,
    "focus": false,
    "id": "08380435-5a9d-4e60-8162-90da43befa9f"
   },
   "outputs": [],
   "source": [
    "%%sql\n",
    "select * from cars where manufacturer == 'Audi'"
   ]
  }
 ],
 "metadata": {
  "kernelspec": {
   "display_name": "Apache Toree - Scala",
   "language": "scala",
   "name": "apache_toree_scala"
  },
  "language_info": {
   "name": "scala",
   "version": "2.11.8"
  }
 },
 "nbformat": 4,
 "nbformat_minor": 0
}
