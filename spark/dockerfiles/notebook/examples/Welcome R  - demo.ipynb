{
 "cells": [
  {
   "cell_type": "markdown",
   "metadata": {
    "focus": false,
    "id": "2af646d8-bd90-4eff-834f-0915579249ef"
   },
   "source": [
    "<div style=\"text-align: center\"><img width=300px src=\"http://upload.wikimedia.org/wikipedia/commons/thumb/1/1b/R_logo.svg/200px-R_logo.svg.png\"></div>"
   ]
  },
  {
   "cell_type": "markdown",
   "metadata": {
    "focus": false,
    "id": "163d6fd8-68a8-44ff-9cc0-6af7480cccdf"
   },
   "source": [
    "# R and Jupyter"
   ]
  },
  {
   "cell_type": "markdown",
   "metadata": {
    "focus": false,
    "id": "37a4098c-b95f-4ad1-b45c-09e8ca9e36ad"
   },
   "source": [
    "This notebook is here to demonstrate the integration capabilities of R with the Jupyter Project. \n",
    "The R kernel is still young, so miss a lot of feature, but can still display inline graphincs in notebooks.\n",
    "\n",
    "For simple comparison we reproduce here some part of the famous `demo(graphics)` command of R in the Jupyter notebook, \n",
    "Where the commend have been converted to markdown cells."
   ]
  },
  {
   "cell_type": "markdown",
   "metadata": {
    "focus": false,
    "id": "2458e87e-7e41-4d90-a5ad-30c9d39bda1d"
   },
   "source": [
    " # R demo"
   ]
  },
  {
   "cell_type": "markdown",
   "metadata": {
    "focus": false,
    "id": "0cba91e7-6805-4996-988e-81d013f3bce5"
   },
   "source": [
    "Here is some code which illustrates some of the differences between\n",
    "R and S graphics capabilities.  Note that colors are generally specified\n",
    "by a character string name (taken from the X11 rgb.txt file) and that line\n",
    "textures are given similarly.  The parameter \"bg\" sets the background\n",
    "parameter for the plot and there is also an \"fg\" parameter which sets\n",
    "the foreground color."
   ]
  },
  {
   "cell_type": "code",
   "execution_count": null,
   "metadata": {
    "collapsed": false,
    "focus": false,
    "id": "7ef2de73-c08f-4791-9cee-ffc4c5a1b2a5"
   },
   "outputs": [],
   "source": [
    "require(datasets)\n",
    "\n",
    "require(grDevices); require(graphics)"
   ]
  },
  {
   "cell_type": "code",
   "execution_count": null,
   "metadata": {
    "collapsed": true,
    "focus": false,
    "id": "8e70efee-2d3a-4fca-81ce-c9cdd908ca26"
   },
   "outputs": [],
   "source": [
    "x <- stats::rnorm(50)\n",
    "opar <- par(bg = \"white\")\n",
    "plot(x, ann = FALSE, type = \"n\") +\n",
    "abline(h = 0, col = gray(.90)) +\n",
    "lines(x, col = \"green4\", lty = \"dotted\") +\n",
    "points(x, bg = \"limegreen\", pch = 21) +\n",
    "title(main = \"Simple Use of Color In a Plot\",\n",
    "       xlab = \"Just a Whisper of a Label\",\n",
    "       col.main = \"blue\", col.lab = gray(.8),\n",
    "       cex.main = 1.2, cex.lab = 1.0, font.main = 4, font.lab = 3)"
   ]
  },
  {
   "cell_type": "markdown",
   "metadata": {
    "focus": false,
    "id": "f1538d48-c83d-4fd1-b63e-0e227cae94b0"
   },
   "source": [
    "## A little color wheel.\n",
    "\n",
    "This code just plots equally spaced hues in\n",
    "a pie chart. If you have a cheap SVGA monitor (like me) you will\n",
    "probably find that numerically equispaced does not mean visually\n",
    "equispaced.  On my display at home, these colors tend to cluster at\n",
    "the RGB primaries.  On the other hand on the SGI Indy at work the\n",
    "effect is near perfect"
   ]
  },
  {
   "cell_type": "code",
   "execution_count": null,
   "metadata": {
    "collapsed": true,
    "focus": false,
    "id": "c0ac4d3e-231d-43b2-a65f-0c857c1b59b9"
   },
   "outputs": [],
   "source": [
    "par(bg = \"gray\")\n",
    "\n",
    "pie(rep(1,24), col = rainbow(24), radius = 0.9) +\n",
    "title(main = \"A Sample Color Wheel\", cex.main = 1.4, font.main = 3) +\n",
    "title(xlab = \"(Use this as a test of monitor linearity)\",\n",
    "      cex.lab = 0.8, font.lab = 3)"
   ]
  },
  {
   "cell_type": "markdown",
   "metadata": {
    "focus": false,
    "id": "4e654567-da68-4e93-a61f-d316cb8c8431"
   },
   "source": [
    "# A scatterplot matrix\n",
    "The good old Iris data (yet again)"
   ]
  },
  {
   "cell_type": "code",
   "execution_count": null,
   "metadata": {
    "collapsed": true,
    "focus": false,
    "id": "3d7a54d7-1b57-4804-aa3c-a18ea651bbe5"
   },
   "outputs": [],
   "source": [
    "pairs(iris[1:4], main=\"Edgar Anderson's Iris Data\", pch=21,\n",
    "       bg = c(\"red\", \"green3\", \"blue\")[unclass(iris$Species)])"
   ]
  },
  {
   "cell_type": "markdown",
   "metadata": {
    "collapsed": false,
    "focus": false,
    "id": "54526fc8-06a0-4600-b07c-b53eaef17ead"
   },
   "source": [
    "#### Note: Original source of this notebook is at tmpnb.jupyter.org"
   ]
  }
 ],
 "metadata": {
  "kernelspec": {
   "display_name": "R",
   "language": "R",
   "name": "ir"
  },
  "language_info": {
   "codemirror_mode": "r",
   "file_extension": ".r",
   "mimetype": "text/x-r-source",
   "name": "R",
   "pygments_lexer": "r",
   "version": "3.3.1"
  }
 },
 "nbformat": 4,
 "nbformat_minor": 0
}
